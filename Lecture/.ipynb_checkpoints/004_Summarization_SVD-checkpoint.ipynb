{
 "cells": [
  {
   "cell_type": "code",
   "execution_count": 1,
   "metadata": {
    "collapsed": true
   },
   "outputs": [],
   "source": [
    "#\n",
    "# Numpy linear algebra SVD\n",
    "# Summarization with SVD\n",
    "#\n",
    "# @author becxer\n",
    "# @email becxer87@gmail.com\n",
    "#\n",
    "\n",
    "article = u\"\"\"대통령이 어제 새누리당 대표와 원내대표를 청와대로 불러 탄핵안 표결에 임하는 자신의 입장을 밝히고 당의 협조를 요청했다.\n",
    "대통령은 이 자리에서 당이 요청한 4월퇴진 수용한다는 뜻을 밝혔다. \n",
    "이어 탄핵소추 절차를 밟아 가결되더라도 헌법재판소 과정을 보면서 국가와 국민을 위해 차분하고 담담하게 갈 각오가 돼 있다고 말했다. \n",
    "탄핵이 아닌 자진 사퇴로 마무리하고 싶지만, 탄핵이 되더라도 헌재에서 법리를 다투면서 버티겠다는 뜻을 밝힌 것이다. \n",
    "두 사람이 전한 면담 내용을 보면 대통령은 이전과 하나도 달라지지 않았다. \n",
    "3차 담화에서 밝힌 임기 단축을 포함한 퇴진 방침에서 4월퇴진 시점만 조금 더 구체화했을 뿐이다.\n",
    "국정농단에 대한 잘못을 시인하는 마음이 눈곱만치도 없다.\n",
    "어제도 이번 사태와 관련해서 초래된 국정혼란에 대해 책임을 통감한다며 포괄적인 책임만 인정했다. \n",
    "재단 모금이 정상적 국정 수행이며, 나머지는 비선인 개인적인 비리라고 우겨온 태도 그대로다. \n",
    "측근들이 모두 대통령 지시를 받고 범법을 저질렀다고 고백했는데도 나홀로 법을 지켰다고 우기는 것을 듣고 있어야 하는 현실이 참담할 뿐이다. \n",
    "이런 터무니없는 생각을 하고 있으니 탄핵이 코앞에 닥쳤는데도 역풍이 무서워 국민 앞에 나서 담화를 발표하지 못하는 것은 당연하다. \n",
    "더 놀라운 것은 대통령이 헌법재판소 탄핵심판을 통해 끝까지 승부를 가리겠다는 발상이다. \n",
    "대통령은 어제 탄핵이 가결되면 내가 할 수 있는 모든 노력을 다하겠다. 당에서 협조해주기 바란다고 했다. \n",
    "법리 다툼에서 이길 수 있다고 확신하지 않고는 할 수 없는 말이다. 이런 자신감을 갖고 있는 대통령이 검찰 수사는 왜 거부하는지 이해가 가지 않는다. \n",
    "헌재에서 법리 논쟁을 벌이겠다고 한 것은 어떤 경우에도 스스로 물러날 생각이 없다는 것이다. \n",
    "탄핵안이 가결되는 즉시 자신이 약속한 4월퇴진 방침도 폐기하겠다는 말이다.\n",
    "4월퇴진 수용은 정말 사퇴하겠다는 것이 아니라 결국 탄핵을 피하려는 술책이라는 점을 스스로 인정한 셈이다. \n",
    "대통령을 면담한 새누리당 지도부도 정신을 못 차린 것은 마찬가지다. \n",
    "역풍이 무서워 대국민담화조차 직접 하지 못하는 대통령에게 민심을 제대로 전하지 못했다. \n",
    "오히려 새누리당 대표와 원내대표는 대통령 얼굴이 수척하다느니, 당에 대해 미안하게 생각하고 있다느니 하면서 대통령에 대한 동정심을 조장했다. \n",
    "탄핵을 막지 못했다는 오명을 피하려는 여당 지도부와 여당 의원의 탄핵 참여를 어떻게든 줄이려는 대통령의 합작품이 이날 면담임을 그대로 보여준 것이다. \n",
    "대통령은 그동안 시종 꼼수로 대응하다 민심에 의해 이미 탄핵당하고 이제 국회에서마저 탄핵당할 차례다. \n",
    "이쯤 되면 즉각 퇴진하는 게 상식인데 끝까지 반전을 꾀하고 있다. \n",
    "탄핵을 앞두고 친정인 여당에 마지막 호소를 하는 자리에서까지 시민을 향해 해볼 테면 해보자고 선언한 것이다. \n",
    "이런 대통령에게 정상적인 판단을 기대할 수 없다는 점은 자명해졌다. 탄핵안이 가결되어도 최대한 시간을 끌면서 버틸 경우 그 혼란상은 불 보듯 뻔하다. \n",
    "밤낮 없이 나라를 걱정한다고 했지만 정작 나라 생각은 전혀 하지 않는 참 나쁜 대통령. \n",
    "이런 대통령에게 필요한 것은 오직 탄핵뿐이다.\"\"\"\n",
    "\n",
    "#문장 구분하기, 특수 문자 제거하기\n",
    "import string\n",
    "exclude = set(string.punctuation)\n",
    "article_line = article.split(\"\\n\")\n",
    "for idx, line in enumerate(article_line):\n",
    "    s = ''.join(ch for ch in line if ch not in exclude)\n",
    "    article_line[idx] = s"
   ]
  },
  {
   "cell_type": "code",
   "execution_count": 2,
   "metadata": {
    "collapsed": true
   },
   "outputs": [],
   "source": [
    "#한국어 형태소 분석기\n",
    "from konlpy.tag import Twitter\n",
    "from konlpy.utils import pprint\n",
    "tknzer = Twitter()\n",
    "\n",
    "#사전 만들기\n",
    "voca = []\n",
    "for line in article_line:\n",
    "    row = tknzer.nouns(line)\n",
    "    voca.extend(row)\n",
    "voca = list(set(voca))\n",
    "voca_idx = { w:idx for idx, w in enumerate(voca) }\n",
    "\n",
    "#사전을 이용하여 원문 문장을 매트릭스로 만들기\n",
    "trg_matrix = []\n",
    "for line in article_line:\n",
    "    row = tknzer.nouns(line)\n",
    "    bag_of_word = [ 0 for x in range(len(voca)) ]\n",
    "    for word in row:\n",
    "        if word in voca:\n",
    "            bag_of_word[voca_idx[word]] += 1\n",
    "    trg_matrix.append(bag_of_word)"
   ]
  },
  {
   "cell_type": "code",
   "execution_count": 3,
   "metadata": {
    "collapsed": false
   },
   "outputs": [
    {
     "name": "stdout",
     "output_type": "stream",
     "text": [
      "(Sentence Important : 81.0 )  탄핵을 막지 못했다는 오명을 피하려는 여당 지도부와 여당 의원의 탄핵 참여를 어떻게든 줄이려는 대통령의 합작품이 이날 면담임을 그대로 보여준 것이다 \n",
      "(Sentence Important : 57.0 )  대통령은 그동안 시종 꼼수로 대응하다 민심에 의해 이미 탄핵당하고 이제 국회에서마저 탄핵당할 차례다 \n",
      "(Sentence Important : 56.0 )  이런 대통령에게 정상적인 판단을 기대할 수 없다는 점은 자명해졌다 탄핵안이 가결되어도 최대한 시간을 끌면서 버틸 경우 그 혼란상은 불 보듯 뻔하다 \n",
      "(Sentence Important : 54.0 )  대통령이 어제 새누리당 대표와 원내대표를 청와대로 불러 탄핵안 표결에 임하는 자신의 입장을 밝히고 당의 협조를 요청했다\n",
      "(Sentence Important : 54.0 )  탄핵이 아닌 자진 사퇴로 마무리하고 싶지만 탄핵이 되더라도 헌재에서 법리를 다투면서 버티겠다는 뜻을 밝힌 것이다 \n",
      "(Sentence Important : 53.0 )  더 놀라운 것은 대통령이 헌법재판소 탄핵심판을 통해 끝까지 승부를 가리겠다는 발상이다 \n",
      "(Sentence Important : 52.0 )  대통령은 어제 탄핵이 가결되면 내가 할 수 있는 모든 노력을 다하겠다 당에서 협조해주기 바란다고 했다 \n",
      "(Sentence Important : 52.0 )  오히려 새누리당 대표와 원내대표는 대통령 얼굴이 수척하다느니 당에 대해 미안하게 생각하고 있다느니 하면서 대통령에 대한 동정심을 조장했다 \n",
      "(Sentence Important : 48.0 )  4월퇴진 수용은 정말 사퇴하겠다는 것이 아니라 결국 탄핵을 피하려는 술책이라는 점을 스스로 인정한 셈이다 \n",
      "(Sentence Important : 44.0 )  이런 대통령에게 필요한 것은 오직 탄핵뿐이다\n",
      "(Sentence Important : 41.0 )  이런 터무니없는 생각을 하고 있으니 탄핵이 코앞에 닥쳤는데도 역풍이 무서워 국민 앞에 나서 담화를 발표하지 못하는 것은 당연하다 \n",
      "(Sentence Important : 41.0 )  측근들이 모두 대통령 지시를 받고 범법을 저질렀다고 고백했는데도 나홀로 법을 지켰다고 우기는 것을 듣고 있어야 하는 현실이 참담할 뿐이다 \n",
      "(Sentence Important : 39.0 )  탄핵안이 가결되는 즉시 자신이 약속한 4월퇴진 방침도 폐기하겠다는 말이다\n",
      "(Sentence Important : 38.0 )  대통령을 면담한 새누리당 지도부도 정신을 못 차린 것은 마찬가지다 \n",
      "(Sentence Important : 37.0 )  대통령은 이 자리에서 당이 요청한 4월퇴진 수용한다는 뜻을 밝혔다 \n",
      "(Sentence Important : 37.0 )  탄핵을 앞두고 친정인 여당에 마지막 호소를 하는 자리에서까지 시민을 향해 해볼 테면 해보자고 선언한 것이다 \n",
      "(Sentence Important : 36.0 )  법리 다툼에서 이길 수 있다고 확신하지 않고는 할 수 없는 말이다 이런 자신감을 갖고 있는 대통령이 검찰 수사는 왜 거부하는지 이해가 가지 않는다 \n",
      "(Sentence Important : 35.0 )  헌재에서 법리 논쟁을 벌이겠다고 한 것은 어떤 경우에도 스스로 물러날 생각이 없다는 것이다 \n",
      "(Sentence Important : 32.0 )  3차 담화에서 밝힌 임기 단축을 포함한 퇴진 방침에서 4월퇴진 시점만 조금 더 구체화했을 뿐이다\n",
      "(Sentence Important : 32.0 )  이어 탄핵소추 절차를 밟아 가결되더라도 헌법재판소 과정을 보면서 국가와 국민을 위해 차분하고 담담하게 갈 각오가 돼 있다고 말했다 \n",
      "(Sentence Important : 26.0 )  밤낮 없이 나라를 걱정한다고 했지만 정작 나라 생각은 전혀 하지 않는 참 나쁜 대통령 \n",
      "(Sentence Important : 26.0 )  역풍이 무서워 대국민담화조차 직접 하지 못하는 대통령에게 민심을 제대로 전하지 못했다 \n",
      "(Sentence Important : 23.0 )  두 사람이 전한 면담 내용을 보면 대통령은 이전과 하나도 달라지지 않았다 \n",
      "(Sentence Important : 19.0 )  어제도 이번 사태와 관련해서 초래된 국정혼란에 대해 책임을 통감한다며 포괄적인 책임만 인정했다 \n",
      "(Sentence Important : 16.0 )  재단 모금이 정상적 국정 수행이며 나머지는 비선인 개인적인 비리라고 우겨온 태도 그대로다 \n",
      "(Sentence Important : 15.0 )  이쯤 되면 즉각 퇴진하는 게 상식인데 끝까지 반전을 꾀하고 있다 \n",
      "(Sentence Important : 11.0 )  국정농단에 대한 잘못을 시인하는 마음이 눈곱만치도 없다\n"
     ]
    }
   ],
   "source": [
    "#문장-단어 매트릭스를 SVD로 문장-축소차원 으로 바꾸기\n",
    "import numpy as np\n",
    "feat_mat = np.array(trg_matrix)\n",
    "U, s, Vh = np.linalg.svd(feat_mat, full_matrices=False)\n",
    "U = np.matmul(U, np.diag(s))\n",
    "\n",
    "#축소된 차원에서 문장간에 내적값 구하고 모두 합한후 정렬하기\n",
    "sentence_point = np.matmul(U, np.transpose(U)).sum(axis=1)\n",
    "rank = np.argsort(sentence_point)[::-1]\n",
    "\n",
    "#정렬된 순서가 문장의 중요도 (** 가정, 중요한 문장일 수록 모든 문장과 가까울 것이다)\n",
    "for r in rank:\n",
    "    print \"(Sentence Important :\", sentence_point[r], \") \", article_line[r]"
   ]
  }
 ],
 "metadata": {
  "kernelspec": {
   "display_name": "Python 2",
   "language": "python",
   "name": "python2"
  },
  "language_info": {
   "codemirror_mode": {
    "name": "ipython",
    "version": 2
   },
   "file_extension": ".py",
   "mimetype": "text/x-python",
   "name": "python",
   "nbconvert_exporter": "python",
   "pygments_lexer": "ipython2",
   "version": "2.7.12"
  }
 },
 "nbformat": 4,
 "nbformat_minor": 1
}
