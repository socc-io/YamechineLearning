{
 "cells": [
  {
   "cell_type": "code",
   "execution_count": 1,
   "metadata": {
    "collapsed": false
   },
   "outputs": [
    {
     "name": "stdout",
     "output_type": "stream",
     "text": [
      "modules successfully imported\n"
     ]
    }
   ],
   "source": [
    "#\n",
    "# Pandas tutorial - 3\n",
    "#\n",
    "# @author becxer\n",
    "# @email becxer87@gmail.com\n",
    "#\n",
    "from pandas import Series, DataFrame\n",
    "import pandas as pd\n",
    "import numpy as np\n",
    "\n",
    "print (\"modules successfully imported\")"
   ]
  },
  {
   "cell_type": "code",
   "execution_count": 2,
   "metadata": {
    "collapsed": false
   },
   "outputs": [
    {
     "data": {
      "text/html": [
       "<div>\n",
       "<table border=\"1\" class=\"dataframe\">\n",
       "  <thead>\n",
       "    <tr style=\"text-align: right;\">\n",
       "      <th></th>\n",
       "      <th>species</th>\n",
       "      <th>sepal_length</th>\n",
       "      <th>sepal_width</th>\n",
       "      <th>petal_length</th>\n",
       "      <th>petal_width</th>\n",
       "    </tr>\n",
       "  </thead>\n",
       "  <tbody>\n",
       "    <tr>\n",
       "      <th>0</th>\n",
       "      <td>0</td>\n",
       "      <td>4.9</td>\n",
       "      <td>3.0</td>\n",
       "      <td>1.4</td>\n",
       "      <td>0.2</td>\n",
       "    </tr>\n",
       "    <tr>\n",
       "      <th>1</th>\n",
       "      <td>1</td>\n",
       "      <td>6.2</td>\n",
       "      <td>2.2</td>\n",
       "      <td>4.5</td>\n",
       "      <td>1.5</td>\n",
       "    </tr>\n",
       "    <tr>\n",
       "      <th>2</th>\n",
       "      <td>2</td>\n",
       "      <td>6.7</td>\n",
       "      <td>2.5</td>\n",
       "      <td>5.8</td>\n",
       "      <td>1.8</td>\n",
       "    </tr>\n",
       "    <tr>\n",
       "      <th>3</th>\n",
       "      <td>0</td>\n",
       "      <td>5.1</td>\n",
       "      <td>3.8</td>\n",
       "      <td>1.9</td>\n",
       "      <td>0.4</td>\n",
       "    </tr>\n",
       "    <tr>\n",
       "      <th>4</th>\n",
       "      <td>1</td>\n",
       "      <td>6.0</td>\n",
       "      <td>2.7</td>\n",
       "      <td>5.1</td>\n",
       "      <td>1.6</td>\n",
       "    </tr>\n",
       "  </tbody>\n",
       "</table>\n",
       "</div>"
      ],
      "text/plain": [
       "   species  sepal_length  sepal_width  petal_length  petal_width\n",
       "0        0           4.9          3.0           1.4          0.2\n",
       "1        1           6.2          2.2           4.5          1.5\n",
       "2        2           6.7          2.5           5.8          1.8\n",
       "3        0           5.1          3.8           1.9          0.4\n",
       "4        1           6.0          2.7           5.1          1.6"
      ]
     },
     "execution_count": 2,
     "metadata": {},
     "output_type": "execute_result"
    }
   ],
   "source": [
    "# IRIS 데이터를 불러온다\n",
    "# IRIS 는 세가지꽃 (Sentosa, Versicolor, Virginica) 에 대한 꽃잎, 꽃받침 에 대한 측정 데이터 이다.\n",
    "# 참조 -> https://en.wikipedia.org/wiki/Iris_flower_data_set\n",
    "#\n",
    "data = pd.read_csv('sample_data/iris/iris.csv')\n",
    "data.head()"
   ]
  },
  {
   "cell_type": "code",
   "execution_count": 5,
   "metadata": {
    "collapsed": false
   },
   "outputs": [
    {
     "data": {
      "text/html": [
       "<div>\n",
       "<table border=\"1\" class=\"dataframe\">\n",
       "  <thead>\n",
       "    <tr style=\"text-align: right;\">\n",
       "      <th></th>\n",
       "      <th>species</th>\n",
       "      <th>sepal_length</th>\n",
       "      <th>sepal_width</th>\n",
       "      <th>petal_length</th>\n",
       "      <th>petal_width</th>\n",
       "    </tr>\n",
       "  </thead>\n",
       "  <tbody>\n",
       "    <tr>\n",
       "      <th>species</th>\n",
       "      <td>1.000000</td>\n",
       "      <td>0.782561</td>\n",
       "      <td>-0.419446</td>\n",
       "      <td>0.949043</td>\n",
       "      <td>0.956464</td>\n",
       "    </tr>\n",
       "    <tr>\n",
       "      <th>sepal_length</th>\n",
       "      <td>0.782561</td>\n",
       "      <td>1.000000</td>\n",
       "      <td>-0.109369</td>\n",
       "      <td>0.871754</td>\n",
       "      <td>0.817954</td>\n",
       "    </tr>\n",
       "    <tr>\n",
       "      <th>sepal_width</th>\n",
       "      <td>-0.419446</td>\n",
       "      <td>-0.109369</td>\n",
       "      <td>1.000000</td>\n",
       "      <td>-0.420516</td>\n",
       "      <td>-0.356544</td>\n",
       "    </tr>\n",
       "    <tr>\n",
       "      <th>petal_length</th>\n",
       "      <td>0.949043</td>\n",
       "      <td>0.871754</td>\n",
       "      <td>-0.420516</td>\n",
       "      <td>1.000000</td>\n",
       "      <td>0.962757</td>\n",
       "    </tr>\n",
       "    <tr>\n",
       "      <th>petal_width</th>\n",
       "      <td>0.956464</td>\n",
       "      <td>0.817954</td>\n",
       "      <td>-0.356544</td>\n",
       "      <td>0.962757</td>\n",
       "      <td>1.000000</td>\n",
       "    </tr>\n",
       "  </tbody>\n",
       "</table>\n",
       "</div>"
      ],
      "text/plain": [
       "               species  sepal_length  sepal_width  petal_length  petal_width\n",
       "species       1.000000      0.782561    -0.419446      0.949043     0.956464\n",
       "sepal_length  0.782561      1.000000    -0.109369      0.871754     0.817954\n",
       "sepal_width  -0.419446     -0.109369     1.000000     -0.420516    -0.356544\n",
       "petal_length  0.949043      0.871754    -0.420516      1.000000     0.962757\n",
       "petal_width   0.956464      0.817954    -0.356544      0.962757     1.000000"
      ]
     },
     "execution_count": 5,
     "metadata": {},
     "output_type": "execute_result"
    }
   ],
   "source": [
    "# 데이터의 상관관계 구하기\n",
    "data.corr()"
   ]
  },
  {
   "cell_type": "code",
   "execution_count": 6,
   "metadata": {
    "collapsed": false
   },
   "outputs": [
    {
     "data": {
      "text/html": [
       "<div>\n",
       "<table border=\"1\" class=\"dataframe\">\n",
       "  <thead>\n",
       "    <tr style=\"text-align: right;\">\n",
       "      <th></th>\n",
       "      <th>species</th>\n",
       "      <th>sepal_length</th>\n",
       "      <th>sepal_width</th>\n",
       "      <th>petal_length</th>\n",
       "      <th>petal_width</th>\n",
       "    </tr>\n",
       "  </thead>\n",
       "  <tbody>\n",
       "    <tr>\n",
       "      <th>species</th>\n",
       "      <td>0.671141</td>\n",
       "      <td>0.530872</td>\n",
       "      <td>-0.148993</td>\n",
       "      <td>1.371812</td>\n",
       "      <td>0.597987</td>\n",
       "    </tr>\n",
       "    <tr>\n",
       "      <th>sepal_length</th>\n",
       "      <td>0.530872</td>\n",
       "      <td>0.685694</td>\n",
       "      <td>-0.039268</td>\n",
       "      <td>1.273682</td>\n",
       "      <td>0.516904</td>\n",
       "    </tr>\n",
       "    <tr>\n",
       "      <th>sepal_width</th>\n",
       "      <td>-0.148993</td>\n",
       "      <td>-0.039268</td>\n",
       "      <td>0.188004</td>\n",
       "      <td>-0.321713</td>\n",
       "      <td>-0.117981</td>\n",
       "    </tr>\n",
       "    <tr>\n",
       "      <th>petal_length</th>\n",
       "      <td>1.371812</td>\n",
       "      <td>1.273682</td>\n",
       "      <td>-0.321713</td>\n",
       "      <td>3.113179</td>\n",
       "      <td>1.296387</td>\n",
       "    </tr>\n",
       "    <tr>\n",
       "      <th>petal_width</th>\n",
       "      <td>0.597987</td>\n",
       "      <td>0.516904</td>\n",
       "      <td>-0.117981</td>\n",
       "      <td>1.296387</td>\n",
       "      <td>0.582414</td>\n",
       "    </tr>\n",
       "  </tbody>\n",
       "</table>\n",
       "</div>"
      ],
      "text/plain": [
       "               species  sepal_length  sepal_width  petal_length  petal_width\n",
       "species       0.671141      0.530872    -0.148993      1.371812     0.597987\n",
       "sepal_length  0.530872      0.685694    -0.039268      1.273682     0.516904\n",
       "sepal_width  -0.148993     -0.039268     0.188004     -0.321713    -0.117981\n",
       "petal_length  1.371812      1.273682    -0.321713      3.113179     1.296387\n",
       "petal_width   0.597987      0.516904    -0.117981      1.296387     0.582414"
      ]
     },
     "execution_count": 6,
     "metadata": {},
     "output_type": "execute_result"
    }
   ],
   "source": [
    "# 데이터의 공분산 구하기\n",
    "data.cov()"
   ]
  },
  {
   "cell_type": "code",
   "execution_count": 19,
   "metadata": {
    "collapsed": false
   },
   "outputs": [
    {
     "data": {
      "text/html": [
       "<div>\n",
       "<table border=\"1\" class=\"dataframe\">\n",
       "  <thead>\n",
       "    <tr style=\"text-align: right;\">\n",
       "      <th></th>\n",
       "      <th>species</th>\n",
       "      <th>sepal_length</th>\n",
       "      <th>sepal_width</th>\n",
       "      <th>petal_length</th>\n",
       "      <th>petal_width</th>\n",
       "      <th>sentosa</th>\n",
       "      <th>versicolor</th>\n",
       "      <th>virginica</th>\n",
       "    </tr>\n",
       "  </thead>\n",
       "  <tbody>\n",
       "    <tr>\n",
       "      <th>0</th>\n",
       "      <td>0</td>\n",
       "      <td>4.9</td>\n",
       "      <td>3.0</td>\n",
       "      <td>1.4</td>\n",
       "      <td>0.2</td>\n",
       "      <td>1</td>\n",
       "      <td>0</td>\n",
       "      <td>0</td>\n",
       "    </tr>\n",
       "    <tr>\n",
       "      <th>1</th>\n",
       "      <td>1</td>\n",
       "      <td>6.2</td>\n",
       "      <td>2.2</td>\n",
       "      <td>4.5</td>\n",
       "      <td>1.5</td>\n",
       "      <td>0</td>\n",
       "      <td>1</td>\n",
       "      <td>0</td>\n",
       "    </tr>\n",
       "    <tr>\n",
       "      <th>2</th>\n",
       "      <td>2</td>\n",
       "      <td>6.7</td>\n",
       "      <td>2.5</td>\n",
       "      <td>5.8</td>\n",
       "      <td>1.8</td>\n",
       "      <td>0</td>\n",
       "      <td>0</td>\n",
       "      <td>1</td>\n",
       "    </tr>\n",
       "    <tr>\n",
       "      <th>3</th>\n",
       "      <td>0</td>\n",
       "      <td>5.1</td>\n",
       "      <td>3.8</td>\n",
       "      <td>1.9</td>\n",
       "      <td>0.4</td>\n",
       "      <td>1</td>\n",
       "      <td>0</td>\n",
       "      <td>0</td>\n",
       "    </tr>\n",
       "    <tr>\n",
       "      <th>4</th>\n",
       "      <td>1</td>\n",
       "      <td>6.0</td>\n",
       "      <td>2.7</td>\n",
       "      <td>5.1</td>\n",
       "      <td>1.6</td>\n",
       "      <td>0</td>\n",
       "      <td>1</td>\n",
       "      <td>0</td>\n",
       "    </tr>\n",
       "  </tbody>\n",
       "</table>\n",
       "</div>"
      ],
      "text/plain": [
       "   species  sepal_length  sepal_width  petal_length  petal_width  sentosa  \\\n",
       "0        0           4.9          3.0           1.4          0.2        1   \n",
       "1        1           6.2          2.2           4.5          1.5        0   \n",
       "2        2           6.7          2.5           5.8          1.8        0   \n",
       "3        0           5.1          3.8           1.9          0.4        1   \n",
       "4        1           6.0          2.7           5.1          1.6        0   \n",
       "\n",
       "   versicolor  virginica  \n",
       "0           0          0  \n",
       "1           1          0  \n",
       "2           0          1  \n",
       "3           0          0  \n",
       "4           1          0  "
      ]
     },
     "execution_count": 19,
     "metadata": {},
     "output_type": "execute_result"
    }
   ],
   "source": [
    "# 요소별 상관관계 확인을 위한 Onehot encoding\n",
    "data[\"sentosa\"] = data.species.map(lambda x :  1 if x == 0 else 0)\n",
    "data[\"versicolor\"] = data.species.map(lambda x :  1 if x == 1 else 0)\n",
    "data[\"virginica\"] = data.species.map(lambda x : 1 if x == 2 else 0)\n",
    "data.head()"
   ]
  },
  {
   "cell_type": "code",
   "execution_count": 33,
   "metadata": {
    "collapsed": false
   },
   "outputs": [
    {
     "data": {
      "text/html": [
       "<div>\n",
       "<table border=\"1\" class=\"dataframe\">\n",
       "  <thead>\n",
       "    <tr style=\"text-align: right;\">\n",
       "      <th></th>\n",
       "      <th>sentosa</th>\n",
       "      <th>sepal_length</th>\n",
       "      <th>sepal_width</th>\n",
       "      <th>petal_length</th>\n",
       "      <th>petal_width</th>\n",
       "    </tr>\n",
       "  </thead>\n",
       "  <tbody>\n",
       "    <tr>\n",
       "      <th>sentosa</th>\n",
       "      <td>1.000000</td>\n",
       "      <td>-0.717416</td>\n",
       "      <td>0.595601</td>\n",
       "      <td>-0.922688</td>\n",
       "      <td>-0.887510</td>\n",
       "    </tr>\n",
       "    <tr>\n",
       "      <th>sepal_length</th>\n",
       "      <td>-0.717416</td>\n",
       "      <td>1.000000</td>\n",
       "      <td>-0.109369</td>\n",
       "      <td>0.871754</td>\n",
       "      <td>0.817954</td>\n",
       "    </tr>\n",
       "    <tr>\n",
       "      <th>sepal_width</th>\n",
       "      <td>0.595601</td>\n",
       "      <td>-0.109369</td>\n",
       "      <td>1.000000</td>\n",
       "      <td>-0.420516</td>\n",
       "      <td>-0.356544</td>\n",
       "    </tr>\n",
       "    <tr>\n",
       "      <th>petal_length</th>\n",
       "      <td>-0.922688</td>\n",
       "      <td>0.871754</td>\n",
       "      <td>-0.420516</td>\n",
       "      <td>1.000000</td>\n",
       "      <td>0.962757</td>\n",
       "    </tr>\n",
       "    <tr>\n",
       "      <th>petal_width</th>\n",
       "      <td>-0.887510</td>\n",
       "      <td>0.817954</td>\n",
       "      <td>-0.356544</td>\n",
       "      <td>0.962757</td>\n",
       "      <td>1.000000</td>\n",
       "    </tr>\n",
       "  </tbody>\n",
       "</table>\n",
       "</div>"
      ],
      "text/plain": [
       "               sentosa  sepal_length  sepal_width  petal_length  petal_width\n",
       "sentosa       1.000000     -0.717416     0.595601     -0.922688    -0.887510\n",
       "sepal_length -0.717416      1.000000    -0.109369      0.871754     0.817954\n",
       "sepal_width   0.595601     -0.109369     1.000000     -0.420516    -0.356544\n",
       "petal_length -0.922688      0.871754    -0.420516      1.000000     0.962757\n",
       "petal_width  -0.887510      0.817954    -0.356544      0.962757     1.000000"
      ]
     },
     "execution_count": 33,
     "metadata": {},
     "output_type": "execute_result"
    }
   ],
   "source": [
    "# Sentosa 꽃의 상관관계 확인\n",
    "data[['sentosa','sepal_length','sepal_width','petal_length','petal_width']].corr()"
   ]
  },
  {
   "cell_type": "code",
   "execution_count": 36,
   "metadata": {
    "collapsed": false
   },
   "outputs": [
    {
     "data": {
      "text/html": [
       "<div>\n",
       "<table border=\"1\" class=\"dataframe\">\n",
       "  <thead>\n",
       "    <tr style=\"text-align: right;\">\n",
       "      <th></th>\n",
       "      <th>species</th>\n",
       "      <th>sepal_length</th>\n",
       "      <th>sepal_width</th>\n",
       "      <th>petal_length</th>\n",
       "      <th>petal_width</th>\n",
       "      <th>sentosa</th>\n",
       "      <th>versicolor</th>\n",
       "      <th>virginica</th>\n",
       "    </tr>\n",
       "  </thead>\n",
       "  <tbody>\n",
       "    <tr>\n",
       "      <th>species</th>\n",
       "      <td>0.671141</td>\n",
       "      <td>0.530872</td>\n",
       "      <td>-0.148993</td>\n",
       "      <td>1.371812</td>\n",
       "      <td>0.597987</td>\n",
       "      <td>-0.335570</td>\n",
       "      <td>0.000000</td>\n",
       "      <td>0.335570</td>\n",
       "    </tr>\n",
       "    <tr>\n",
       "      <th>sepal_length</th>\n",
       "      <td>0.530872</td>\n",
       "      <td>0.685694</td>\n",
       "      <td>-0.039268</td>\n",
       "      <td>1.273682</td>\n",
       "      <td>0.516904</td>\n",
       "      <td>-0.280984</td>\n",
       "      <td>0.031096</td>\n",
       "      <td>0.249888</td>\n",
       "    </tr>\n",
       "    <tr>\n",
       "      <th>sepal_width</th>\n",
       "      <td>-0.148993</td>\n",
       "      <td>-0.039268</td>\n",
       "      <td>0.188004</td>\n",
       "      <td>-0.321713</td>\n",
       "      <td>-0.117981</td>\n",
       "      <td>0.122148</td>\n",
       "      <td>-0.095302</td>\n",
       "      <td>-0.026846</td>\n",
       "    </tr>\n",
       "    <tr>\n",
       "      <th>petal_length</th>\n",
       "      <td>1.371812</td>\n",
       "      <td>1.273682</td>\n",
       "      <td>-0.321713</td>\n",
       "      <td>3.113179</td>\n",
       "      <td>1.296387</td>\n",
       "      <td>-0.770022</td>\n",
       "      <td>0.168233</td>\n",
       "      <td>0.601790</td>\n",
       "    </tr>\n",
       "    <tr>\n",
       "      <th>petal_width</th>\n",
       "      <td>0.597987</td>\n",
       "      <td>0.516904</td>\n",
       "      <td>-0.117981</td>\n",
       "      <td>1.296387</td>\n",
       "      <td>0.582414</td>\n",
       "      <td>-0.320358</td>\n",
       "      <td>0.042729</td>\n",
       "      <td>0.277629</td>\n",
       "    </tr>\n",
       "    <tr>\n",
       "      <th>sentosa</th>\n",
       "      <td>-0.335570</td>\n",
       "      <td>-0.280984</td>\n",
       "      <td>0.122148</td>\n",
       "      <td>-0.770022</td>\n",
       "      <td>-0.320358</td>\n",
       "      <td>0.223714</td>\n",
       "      <td>-0.111857</td>\n",
       "      <td>-0.111857</td>\n",
       "    </tr>\n",
       "    <tr>\n",
       "      <th>versicolor</th>\n",
       "      <td>0.000000</td>\n",
       "      <td>0.031096</td>\n",
       "      <td>-0.095302</td>\n",
       "      <td>0.168233</td>\n",
       "      <td>0.042729</td>\n",
       "      <td>-0.111857</td>\n",
       "      <td>0.223714</td>\n",
       "      <td>-0.111857</td>\n",
       "    </tr>\n",
       "    <tr>\n",
       "      <th>virginica</th>\n",
       "      <td>0.335570</td>\n",
       "      <td>0.249888</td>\n",
       "      <td>-0.026846</td>\n",
       "      <td>0.601790</td>\n",
       "      <td>0.277629</td>\n",
       "      <td>-0.111857</td>\n",
       "      <td>-0.111857</td>\n",
       "      <td>0.223714</td>\n",
       "    </tr>\n",
       "  </tbody>\n",
       "</table>\n",
       "</div>"
      ],
      "text/plain": [
       "               species  sepal_length  sepal_width  petal_length  petal_width  \\\n",
       "species       0.671141      0.530872    -0.148993      1.371812     0.597987   \n",
       "sepal_length  0.530872      0.685694    -0.039268      1.273682     0.516904   \n",
       "sepal_width  -0.148993     -0.039268     0.188004     -0.321713    -0.117981   \n",
       "petal_length  1.371812      1.273682    -0.321713      3.113179     1.296387   \n",
       "petal_width   0.597987      0.516904    -0.117981      1.296387     0.582414   \n",
       "sentosa      -0.335570     -0.280984     0.122148     -0.770022    -0.320358   \n",
       "versicolor    0.000000      0.031096    -0.095302      0.168233     0.042729   \n",
       "virginica     0.335570      0.249888    -0.026846      0.601790     0.277629   \n",
       "\n",
       "               sentosa  versicolor  virginica  \n",
       "species      -0.335570    0.000000   0.335570  \n",
       "sepal_length -0.280984    0.031096   0.249888  \n",
       "sepal_width   0.122148   -0.095302  -0.026846  \n",
       "petal_length -0.770022    0.168233   0.601790  \n",
       "petal_width  -0.320358    0.042729   0.277629  \n",
       "sentosa       0.223714   -0.111857  -0.111857  \n",
       "versicolor   -0.111857    0.223714  -0.111857  \n",
       "virginica    -0.111857   -0.111857   0.223714  "
      ]
     },
     "execution_count": 36,
     "metadata": {},
     "output_type": "execute_result"
    }
   ],
   "source": [
    "# 모든 꽃의 상관관계\n",
    "data.cov()"
   ]
  },
  {
   "cell_type": "code",
   "execution_count": 30,
   "metadata": {
    "collapsed": false
   },
   "outputs": [
    {
     "data": {
      "text/plain": [
       "array([[ 4.9,  3. ,  1.4,  0.2],\n",
       "       [ 6.2,  2.2,  4.5,  1.5],\n",
       "       [ 6.7,  2.5,  5.8,  1.8],\n",
       "       [ 5.1,  3.8,  1.9,  0.4]])"
      ]
     },
     "execution_count": 30,
     "metadata": {},
     "output_type": "execute_result"
    }
   ],
   "source": [
    "# SVD (Singular Vector Decomposition) 을 위해 Numpy로 추출해보자\n",
    "data_feature_only = data[['sepal_length', 'sepal_width', 'petal_length', 'petal_width']]\n",
    "feat_mat = data_feature_only.as_matrix()\n",
    "feat_mat[:4]"
   ]
  },
  {
   "cell_type": "code",
   "execution_count": 56,
   "metadata": {
    "collapsed": false
   },
   "outputs": [
    {
     "name": "stdout",
     "output_type": "stream",
     "text": [
      "eigen-matrix :  [ 95.95066751  17.72295328   3.46929666   1.87891236]\n",
      "4번째 축은 별로 쓸모가 없음, 따라서 없앤다 s[3] = 0\n",
      "\n",
      "After delete lower eigen - value :\n",
      "\n",
      "[[ 4.86832748  3.03145595  1.44707719  0.12665612]\n",
      " [ 6.11631145  2.2831163   4.62439242  1.30620289]\n",
      " [ 6.72465136  2.4755172   5.76335887  1.85708503]\n",
      " [ 5.1598285   3.7405806   1.81107252  0.53854452]]\n"
     ]
    }
   ],
   "source": [
    "# SVD로는 sigma Eigen-Matrix 를 구할 수 있는데,\n",
    "# 이것은 각 축의 분산도를 뜯한다.\n",
    "# 분산도가 낮다는것은 -> 정보가 획일화 되어있음을 나타내므로 그 축은 지워도 정보 손실이 적다!\n",
    "# 차원 축소가 가능함\n",
    "\n",
    "U, s, Vh = np.linalg.svd(feat_mat, full_matrices=False)\n",
    "print \"eigen-matrix : \",s\n",
    "print \"4번째 축은 별로 쓸모가 없음, 따라서 없앤다 s[3] = 0\"\n",
    "s[3] = 0\n",
    "\n",
    "# SVD로 쪼갯던 것을 다시 합쳐본다.\n",
    "print \"\\nAfter delete lower eigen - value :\\n\"\n",
    "new_a = np.dot(U, np.dot(np.diag(s), Vh))\n",
    "print(new_a[:4])"
   ]
  }
 ],
 "metadata": {
  "kernelspec": {
   "display_name": "Python 2",
   "language": "python",
   "name": "python2"
  },
  "language_info": {
   "codemirror_mode": {
    "name": "ipython",
    "version": 2
   },
   "file_extension": ".py",
   "mimetype": "text/x-python",
   "name": "python",
   "nbconvert_exporter": "python",
   "pygments_lexer": "ipython2",
   "version": "2.7.12"
  }
 },
 "nbformat": 4,
 "nbformat_minor": 1
}
