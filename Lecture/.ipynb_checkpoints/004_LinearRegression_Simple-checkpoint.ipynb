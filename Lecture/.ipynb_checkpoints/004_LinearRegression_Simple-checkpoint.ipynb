{
 "cells": [
  {
   "cell_type": "markdown",
   "metadata": {},
   "source": [
    "![](https://github.com/socc-io/YamechineLearning/raw/master/Lecture/board/page1.png)\n",
    "![](https://github.com/socc-io/YamechineLearning/raw/master/Lecture/board/page2.png)"
   ]
  },
  {
   "cell_type": "code",
   "execution_count": 1,
   "metadata": {
    "collapsed": true
   },
   "outputs": [],
   "source": [
    "# \n",
    "# LinearRegression Example\n",
    "#\n",
    "# @author becxer\n",
    "# @email becxer87@gmail.com\n",
    "#\n",
    "\n",
    "import numpy as np\n",
    "from pytrain.LinearRegression import LinearRegression"
   ]
  },
  {
   "cell_type": "code",
   "execution_count": 3,
   "metadata": {
    "collapsed": true
   },
   "outputs": [],
   "source": [
    "# 심플 데이터 셋트\n",
    "train_mat = [[0.12, 0.25],\\\n",
    "             [3.24, 4.33],\\\n",
    "             [0.14, 0.45],\\\n",
    "             [7.30, 4.23],]\n",
    "\n",
    "train_label = [[0,1],\\\n",
    "               [1,0],\\\n",
    "               [0,1],\\\n",
    "               [1,0]]\n",
    "\n",
    "test_a = [0.10,0.33]\n",
    "test_b = [4.0,4.5]"
   ]
  },
  {
   "cell_type": "code",
   "execution_count": 4,
   "metadata": {
    "collapsed": true
   },
   "outputs": [],
   "source": [
    "# 리니어 리그레션으로 데이터를 학습\n",
    "linear_reg = LinearRegression(train_mat, train_label)\n",
    "linear_reg.fit(lr = 0.001, epoch = 10000, batch_size =4)"
   ]
  },
  {
   "cell_type": "code",
   "execution_count": 5,
   "metadata": {
    "collapsed": false
   },
   "outputs": [
    {
     "name": "stdout",
     "output_type": "stream",
     "text": [
      "X [0.1, 0.33] => Y [-0.  1.]\n",
      "X [4.0, 4.5] => Y [ 1. -0.]\n"
     ]
    }
   ],
   "source": [
    "# 학습된 모델로 예측해보기\n",
    "res_a = np.rint(linear_reg.predict(test_a))\n",
    "res_b = np.rint(linear_reg.predict(test_b))\n",
    "\n",
    "print(\"X %s => Y %s\" % (test_a, res_a))\n",
    "print(\"X %s => Y %s\" % (test_b, res_b))"
   ]
  }
 ],
 "metadata": {
  "kernelspec": {
   "display_name": "Python 2",
   "language": "python",
   "name": "python2"
  },
  "language_info": {
   "codemirror_mode": {
    "name": "ipython",
    "version": 2
   },
   "file_extension": ".py",
   "mimetype": "text/x-python",
   "name": "python",
   "nbconvert_exporter": "python",
   "pygments_lexer": "ipython2",
   "version": "2.7.12"
  }
 },
 "nbformat": 4,
 "nbformat_minor": 0
}
