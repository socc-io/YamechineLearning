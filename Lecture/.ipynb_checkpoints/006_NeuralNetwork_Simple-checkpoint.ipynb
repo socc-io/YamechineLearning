{
 "cells": [
  {
   "cell_type": "code",
   "execution_count": 1,
   "metadata": {
    "collapsed": true
   },
   "outputs": [],
   "source": [
    "# \n",
    "# NeuralNetwork Example\n",
    "#\n",
    "# @author becxer\n",
    "# @email becxer87@gmail.com\n",
    "#\n",
    "\n",
    "import numpy as np\n",
    "from pytrain.NeuralNetwork import FNN"
   ]
  },
  {
   "cell_type": "code",
   "execution_count": 2,
   "metadata": {
    "collapsed": true
   },
   "outputs": [],
   "source": [
    "# Simple dataset\n",
    "train_mat = [[0.12, 0.25],\\\n",
    "             [3.24, 4.33],\\\n",
    "             [0.14, 0.45],\\\n",
    "             [7.30, 4.23],]\n",
    "\n",
    "train_label = [[0,1],\\\n",
    "               [1,0],\\\n",
    "               [0,1],\\\n",
    "               [1,0]]\n",
    "\n",
    "test_a = [0.10,0.33]\n",
    "test_b = [4.0,4.5]"
   ]
  },
  {
   "cell_type": "code",
   "execution_count": 3,
   "metadata": {
    "collapsed": true
   },
   "outputs": [],
   "source": [
    "# Train model\n",
    "hidden_layer = [3]\n",
    "fnn = FNN(train_mat, train_label, hidden_layer)\n",
    "fnn.fit(lr = 0.01, epoch = 2000, err_th = 0.001, batch_size = 4)"
   ]
  },
  {
   "cell_type": "code",
   "execution_count": 4,
   "metadata": {
    "collapsed": false
   },
   "outputs": [
    {
     "name": "stdout",
     "output_type": "stream",
     "text": [
      "X [0.1, 0.33] => Y [ 0.  1.]\n",
      "X [4.0, 4.5] => Y [ 1.  0.]\n"
     ]
    }
   ],
   "source": [
    "# Test model\n",
    "res_a = np.rint(fnn.predict(test_a))\n",
    "res_b = np.rint(fnn.predict(test_b))\n",
    "\n",
    "print(\"X %s => Y %s\" % (test_a, res_a))\n",
    "print(\"X %s => Y %s\" % (test_b, res_b))"
   ]
  }
 ],
 "metadata": {
  "kernelspec": {
   "display_name": "Python 2",
   "language": "python",
   "name": "python2"
  },
  "language_info": {
   "codemirror_mode": {
    "name": "ipython",
    "version": 2
   },
   "file_extension": ".py",
   "mimetype": "text/x-python",
   "name": "python",
   "nbconvert_exporter": "python",
   "pygments_lexer": "ipython2",
   "version": "2.7.12"
  }
 },
 "nbformat": 4,
 "nbformat_minor": 0
}
