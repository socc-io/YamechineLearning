{
 "cells": [
  {
   "cell_type": "code",
   "execution_count": 2,
   "metadata": {
    "collapsed": false
   },
   "outputs": [],
   "source": [
    "from pytrain.GaussianNaiveBayes import GaussianNaiveBayes"
   ]
  },
  {
   "cell_type": "code",
   "execution_count": 3,
   "metadata": {
    "collapsed": false
   },
   "outputs": [],
   "source": [
    "#모의 위치 AP map 데이터\n",
    "train_mat = [\\\n",
    "                [-65,-55,-42],[-20,-59,-71],[-43,-49,-69],\\\n",
    "                [-61,-30,-74],[-79,-81,-40],[-71,-57,-24],\\\n",
    "                [-67,-19,-58],[-57,-73,-83],[-68,-74,-59],\\\n",
    "                [-80,-85,-79]\n",
    "            ]\n",
    "train_label = ['B','A','A','A','B','B','A','C','C','C']\n",
    "        \n",
    "test_mat = [\\\n",
    "                [-45,-47,-74],[-77,-69,-25],[-64,-71,-59],\\\n",
    "                [-85,-85,-25],[-85,-85,-85]\n",
    "            ]\n",
    "test_label = ['A','B','C','B','C']"
   ]
  },
  {
   "cell_type": "code",
   "execution_count": 4,
   "metadata": {
    "collapsed": false
   },
   "outputs": [
    {
     "name": "stdout",
     "output_type": "stream",
     "text": [
      "[-45, -47, -74] -> A\n",
      "[-77, -69, -25] -> B\n",
      "[-64, -71, -59] -> C\n",
      "[-85, -85, -25] -> B\n",
      "[-85, -85, -85] -> C\n"
     ]
    }
   ],
   "source": [
    "#파이트레인으로 학습하기\n",
    "gnb = GaussianNaiveBayes(train_mat,train_label)\n",
    "gnb.fit()\n",
    "\n",
    "for row in test_mat:\n",
    "    res = gnb.predict(row)\n",
    "    print row, \"->\" , res"
   ]
  }
 ],
 "metadata": {
  "kernelspec": {
   "display_name": "Python 2",
   "language": "python",
   "name": "python2"
  },
  "language_info": {
   "codemirror_mode": {
    "name": "ipython",
    "version": 2
   },
   "file_extension": ".py",
   "mimetype": "text/x-python",
   "name": "python",
   "nbconvert_exporter": "python",
   "pygments_lexer": "ipython2",
   "version": "2.7.12"
  }
 },
 "nbformat": 4,
 "nbformat_minor": 0
}
