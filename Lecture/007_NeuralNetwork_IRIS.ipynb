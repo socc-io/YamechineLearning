{
 "cells": [
  {
   "cell_type": "code",
   "execution_count": 1,
   "metadata": {
    "collapsed": false
   },
   "outputs": [],
   "source": [
    "import pandas as pd\n",
    "import numpy as np\n",
    "data = pd.read_csv('sample_data/iris/iris.csv')"
   ]
  },
  {
   "cell_type": "code",
   "execution_count": 2,
   "metadata": {
    "collapsed": false
   },
   "outputs": [],
   "source": [
    "data_iris = data.as_matrix()\n",
    "label_d = data_iris[:,[0]]\n",
    "mat = data_iris[:,[1,2,3,4]]\n",
    "label = []\n",
    "for idx, l in enumerate(label_d):\n",
    "    tmp = [0,0,0]\n",
    "    tmp[int(l[0])] = 1\n",
    "    label.append(tmp)\n",
    "label = np.array(label)"
   ]
  },
  {
   "cell_type": "code",
   "execution_count": 3,
   "metadata": {
    "collapsed": false
   },
   "outputs": [
    {
     "name": "stdout",
     "output_type": "stream",
     "text": [
      "(130, 4)\n",
      "(130, 3)\n",
      "(20, 4)\n",
      "(20, 3)\n"
     ]
    }
   ],
   "source": [
    "train_mat = mat[:130]\n",
    "train_label = label[:130]\n",
    "test_mat = mat[130:]\n",
    "test_label = label[130:]\n",
    "\n",
    "print train_mat.shape\n",
    "print train_label.shape\n",
    "print test_mat.shape\n",
    "print test_label.shape"
   ]
  },
  {
   "cell_type": "code",
   "execution_count": 4,
   "metadata": {
    "collapsed": true
   },
   "outputs": [],
   "source": [
    "from pytrain.NeuralNetwork import FNN"
   ]
  },
  {
   "cell_type": "code",
   "execution_count": 5,
   "metadata": {
    "collapsed": false
   },
   "outputs": [],
   "source": [
    "hidden_layer = [3,3]\n",
    "fnn = FNN(train_mat, train_label, hidden_layer)\n",
    "fnn.fit(lr = 0.01, epoch = 1000, err_th = 0.001, batch_size = 30)"
   ]
  },
  {
   "cell_type": "code",
   "execution_count": 6,
   "metadata": {
    "collapsed": false
   },
   "outputs": [
    {
     "name": "stdout",
     "output_type": "stream",
     "text": [
      "예측 :  0 답 :  0\n",
      "예측 :  1 답 :  1\n",
      "에측 :  2 답 :  2\n",
      "에측 :  1 답 :  1\n"
     ]
    }
   ],
   "source": [
    "print \"예측 : \", np.argmax(fnn.predict(test_mat[2])), \"답 : \", np.argmax(test_label[2])\n",
    "print \"예측 : \", np.argmax(fnn.predict(test_mat[0])), \"답 : \", np.argmax(test_label[0])\n",
    "print \"에측 : \", np.argmax(fnn.predict(test_mat[1])), \"답 : \", np.argmax(test_label[1])\n",
    "print \"에측 : \", np.argmax(fnn.predict(test_mat[12])), \"답 : \", np.argmax(test_label[12])"
   ]
  }
 ],
 "metadata": {
  "kernelspec": {
   "display_name": "Python 2",
   "language": "python",
   "name": "python2"
  },
  "language_info": {
   "codemirror_mode": {
    "name": "ipython",
    "version": 2
   },
   "file_extension": ".py",
   "mimetype": "text/x-python",
   "name": "python",
   "nbconvert_exporter": "python",
   "pygments_lexer": "ipython2",
   "version": "2.7.12"
  }
 },
 "nbformat": 4,
 "nbformat_minor": 0
}
