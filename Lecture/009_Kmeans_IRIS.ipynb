{
 "cells": [
  {
   "cell_type": "code",
   "execution_count": 1,
   "metadata": {
    "collapsed": false
   },
   "outputs": [],
   "source": [
    "import pandas as pd\n",
    "import numpy as np\n",
    "data = pd.read_csv('sample_data/iris/iris.csv')"
   ]
  },
  {
   "cell_type": "code",
   "execution_count": 2,
   "metadata": {
    "collapsed": false
   },
   "outputs": [],
   "source": [
    "#IRIS 데이터를 원-핫 인코딩으로 바꾸기\n",
    "data_iris = data.as_matrix()\n",
    "label = data_iris[:,[0]]\n",
    "mat = data_iris[:,[1,2,3,4]]"
   ]
  },
  {
   "cell_type": "code",
   "execution_count": 3,
   "metadata": {
    "collapsed": false
   },
   "outputs": [
    {
     "name": "stdout",
     "output_type": "stream",
     "text": [
      "(130, 4)\n",
      "(130, 1)\n",
      "(20, 4)\n",
      "(20, 1)\n"
     ]
    }
   ],
   "source": [
    "#데이터를 학습용과 테스트용으로 나누기\n",
    "train_mat = mat[:130]\n",
    "train_label = label[:130]\n",
    "test_mat = mat[130:]\n",
    "test_label = label[130:]\n",
    "\n",
    "print train_mat.shape\n",
    "print train_label.shape\n",
    "print test_mat.shape\n",
    "print test_label.shape"
   ]
  },
  {
   "cell_type": "code",
   "execution_count": 4,
   "metadata": {
    "collapsed": true
   },
   "outputs": [],
   "source": [
    "#파이트레인으로 학습시키기\n",
    "from pytrain.Kmeans import Kmeans"
   ]
  },
  {
   "cell_type": "code",
   "execution_count": 8,
   "metadata": {
    "collapsed": false
   },
   "outputs": [
    {
     "name": "stdout",
     "output_type": "stream",
     "text": [
      "고정된 K 갯수 : 3\n",
      "클러스터 중심점 : \n",
      "[[ 4.98695652  3.35652174  1.5326087   0.2826087 ]\n",
      " [ 6.32142857  2.88809524  4.96785714  1.71071429]\n",
      " [ 7.53455556  2.62700546  1.80688314  2.31114885]]\n",
      "유연한 K 찾은 클러스터 갯수 : 2\n",
      "클러스터 중심점 : \n",
      "[[ 4.98695652  3.35652174  1.5326087   0.2826087 ]\n",
      " [ 6.32142857  2.88809524  4.96785714  1.71071429]]\n"
     ]
    }
   ],
   "source": [
    "kmeans = Kmeans(train_mat, dist_func = 'euclidean')\n",
    "\n",
    "# finding cluster (Fixed K)\n",
    "cluster_point_fixed = kmeans.cluster(K = 3, epoch = 30)\n",
    "print(\"고정된 K 갯수 : \" + str(len(cluster_point_fixed)))\n",
    "print(\"클러스터 중심점 : \\n\" + str(cluster_point_fixed))\n",
    "\n",
    "# Auto finding good cluster (Flexible K)\n",
    "cluster_point_flexible = kmeans.fit(max_K = 7, random_try_count = 10, epoch = 30)\n",
    "print(\"유연한 K 찾은 클러스터 갯수 : \" + str(len(cluster_point_flexible)))\n",
    "print(\"클러스터 중심점 : \\n\" + str(cluster_point_flexible))"
   ]
  },
  {
   "cell_type": "code",
   "execution_count": null,
   "metadata": {
    "collapsed": true
   },
   "outputs": [],
   "source": []
  }
 ],
 "metadata": {
  "kernelspec": {
   "display_name": "Python 2",
   "language": "python",
   "name": "python2"
  },
  "language_info": {
   "codemirror_mode": {
    "name": "ipython",
    "version": 2
   },
   "file_extension": ".py",
   "mimetype": "text/x-python",
   "name": "python",
   "nbconvert_exporter": "python",
   "pygments_lexer": "ipython2",
   "version": "2.7.12"
  }
 },
 "nbformat": 4,
 "nbformat_minor": 0
}
