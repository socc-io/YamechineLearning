{
 "cells": [
  {
   "cell_type": "code",
   "execution_count": 6,
   "metadata": {
    "collapsed": true
   },
   "outputs": [],
   "source": [
    "from pytrain.lib import nlp\n",
    "from pytrain.NaiveBayes import NaiveBayes\n",
    "\n",
    "#스팸메일 구분하기 데이터\n",
    "sample_docs = [\\\n",
    "                \"hello this is virus mail\",\\\n",
    "                \"hi this is from friend\",\\\n",
    "                \"how about buy this virus\",\\\n",
    "                \"facebook friend contact to you\",\\\n",
    "                \"I love you baby virus\",\\\n",
    "                \"what a nice day how about you\"\\\n",
    "]\n",
    "docs_label = ['spam','real','spam','real','spam','real']"
   ]
  },
  {
   "cell_type": "code",
   "execution_count": 7,
   "metadata": {
    "collapsed": false
   },
   "outputs": [
    {
     "name": "stdout",
     "output_type": "stream",
     "text": [
      "['buy', 'love', 'day', 'virus', 'contact', 'facebook', 'baby', 'mail', 'hi', 'hello', 'friend', 'nice']\n"
     ]
    }
   ],
   "source": [
    "nlp_eng = nlp(\"eng\")\n",
    "#데이터에서 사전을 추출하기\n",
    "voca = nlp_eng.extract_vocabulary(sample_docs)\n",
    "print voca"
   ]
  },
  {
   "cell_type": "code",
   "execution_count": 8,
   "metadata": {
    "collapsed": false
   },
   "outputs": [
    {
     "name": "stdout",
     "output_type": "stream",
     "text": [
      "spam\n",
      "spam\n"
     ]
    }
   ],
   "source": [
    "#데이터를 bag of word vector 로 치환하기\n",
    "docs_vector = []\n",
    "for doc in sample_docs:\n",
    "    docs_vector.append(nlp_eng.bag_of_word2vector(voca, doc))\n",
    "\n",
    "#파이트레인으로 학습시키기\n",
    "nbayes = NaiveBayes(docs_vector, docs_label)\n",
    "nbayes.fit()\n",
    "\n",
    "tc1 = \"this is virus mail\"  # SPAM\n",
    "tc1_vec = nlp_eng.bag_of_word2vector(voca, tc1)      \n",
    "r1 = nbayes.predict(tc1_vec)\n",
    "print r1\n",
    "\n",
    "# test case 2\n",
    "tc2 = \"I love you love\" # SPAM\n",
    "tc2_vec = nlp_eng.bag_of_word2vector(voca, tc2)\n",
    "r2 = nbayes.predict(tc2_vec)\n",
    "print r2"
   ]
  }
 ],
 "metadata": {
  "kernelspec": {
   "display_name": "Python 2",
   "language": "python",
   "name": "python2"
  },
  "language_info": {
   "codemirror_mode": {
    "name": "ipython",
    "version": 2
   },
   "file_extension": ".py",
   "mimetype": "text/x-python",
   "name": "python",
   "nbconvert_exporter": "python",
   "pygments_lexer": "ipython2",
   "version": "2.7.12"
  }
 },
 "nbformat": 4,
 "nbformat_minor": 0
}
