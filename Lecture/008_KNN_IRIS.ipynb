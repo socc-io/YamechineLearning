{
 "cells": [
  {
   "cell_type": "code",
   "execution_count": 1,
   "metadata": {
    "collapsed": false
   },
   "outputs": [],
   "source": [
    "import pandas as pd\n",
    "import numpy as np\n",
    "data = pd.read_csv('sample_data/iris/iris.csv')"
   ]
  },
  {
   "cell_type": "code",
   "execution_count": 2,
   "metadata": {
    "collapsed": false
   },
   "outputs": [],
   "source": [
    "#IRIS 데이터를 원-핫 인코딩으로 바꾸기\n",
    "data_iris = data.as_matrix()\n",
    "label = data_iris[:,[0]]\n",
    "mat = data_iris[:,[1,2,3,4]]"
   ]
  },
  {
   "cell_type": "code",
   "execution_count": 3,
   "metadata": {
    "collapsed": false
   },
   "outputs": [
    {
     "name": "stdout",
     "output_type": "stream",
     "text": [
      "(130, 4)\n",
      "(130, 1)\n",
      "(20, 4)\n",
      "(20, 1)\n"
     ]
    }
   ],
   "source": [
    "#데이터를 학습용과 테스트용으로 나누기\n",
    "train_mat = mat[:130]\n",
    "train_label = label[:130]\n",
    "test_mat = mat[130:]\n",
    "test_label = label[130:]\n",
    "\n",
    "print train_mat.shape\n",
    "print train_label.shape\n",
    "print test_mat.shape\n",
    "print test_label.shape"
   ]
  },
  {
   "cell_type": "code",
   "execution_count": 4,
   "metadata": {
    "collapsed": true
   },
   "outputs": [],
   "source": [
    "#파이트레인으로 학습시키기\n",
    "from pytrain.KNN import KNN"
   ]
  },
  {
   "cell_type": "code",
   "execution_count": 7,
   "metadata": {
    "collapsed": false
   },
   "outputs": [],
   "source": [
    "K = 5\n",
    "knn = KNN(train_mat, train_label, K, 'manhattan')"
   ]
  },
  {
   "cell_type": "code",
   "execution_count": 9,
   "metadata": {
    "collapsed": false
   },
   "outputs": [
    {
     "name": "stdout",
     "output_type": "stream",
     "text": [
      "예측 :  [ 0.] , 답 :  [ 0.]\n",
      "예측 :  [ 1.] , 답 :  [ 1.]\n",
      "에측 :  [ 2.] , 답 :  [ 2.]\n",
      "에측 :  [ 1.] , 답 :  [ 1.]\n"
     ]
    }
   ],
   "source": [
    "print \"예측 : \", knn.predict(test_mat[2]), \", 답 : \", test_label[2]\n",
    "print \"예측 : \", knn.predict(test_mat[0]), \", 답 : \", test_label[0]\n",
    "print \"에측 : \", knn.predict(test_mat[1]), \", 답 : \", test_label[1]\n",
    "print \"에측 : \", knn.predict(test_mat[12]), \", 답 : \", test_label[12]"
   ]
  }
 ],
 "metadata": {
  "kernelspec": {
   "display_name": "Python 2",
   "language": "python",
   "name": "python2"
  },
  "language_info": {
   "codemirror_mode": {
    "name": "ipython",
    "version": 2
   },
   "file_extension": ".py",
   "mimetype": "text/x-python",
   "name": "python",
   "nbconvert_exporter": "python",
   "pygments_lexer": "ipython2",
   "version": "2.7.12"
  }
 },
 "nbformat": 4,
 "nbformat_minor": 0
}
