{
 "cells": [
  {
   "cell_type": "code",
   "execution_count": 6,
   "metadata": {
    "collapsed": false
   },
   "outputs": [
    {
     "name": "stdout",
     "output_type": "stream",
     "text": [
      "[  1.19164193e-06   3.29148137e-06]\n",
      "6.55324725447e-06\n",
      "[  7.51911463e-06   2.46662814e-05   8.20124374e-06   2.91751995e-05]\n"
     ]
    },
    {
     "ename": "AttributeError",
     "evalue": "LinearRegression instance has no attribute 'predict'",
     "output_type": "error",
     "traceback": [
      "\u001b[1;31m---------------------------------------------------------------------------\u001b[0m",
      "\u001b[1;31mAttributeError\u001b[0m                            Traceback (most recent call last)",
      "\u001b[1;32m<ipython-input-6-573b9a949a0d>\u001b[0m in \u001b[0;36m<module>\u001b[1;34m()\u001b[0m\n\u001b[0;32m     39\u001b[0m \u001b[1;33m\u001b[0m\u001b[0m\n\u001b[0;32m     40\u001b[0m \u001b[1;31m# 입력한 parameter에 대한 결과 예측\u001b[0m\u001b[1;33m\u001b[0m\u001b[1;33m\u001b[0m\u001b[0m\n\u001b[1;32m---> 41\u001b[1;33m \u001b[0mr1\u001b[0m \u001b[1;33m=\u001b[0m \u001b[0mlrg\u001b[0m\u001b[1;33m.\u001b[0m\u001b[0mpredict\u001b[0m\u001b[1;33m(\u001b[0m\u001b[1;33m[\u001b[0m\u001b[1;36m0.0\u001b[0m\u001b[1;33m,\u001b[0m\u001b[1;36m0.0\u001b[0m\u001b[1;33m]\u001b[0m\u001b[1;33m)\u001b[0m\u001b[1;33m\u001b[0m\u001b[0m\n\u001b[0m\u001b[0;32m     42\u001b[0m \u001b[1;32mprint\u001b[0m \u001b[0mr1\u001b[0m \u001b[1;31m# 아마 [0,1]이 나올 것\u001b[0m\u001b[1;33m\u001b[0m\u001b[0m\n\u001b[0;32m     43\u001b[0m \u001b[0mr2\u001b[0m \u001b[1;33m=\u001b[0m \u001b[0mlrg\u001b[0m\u001b[1;33m.\u001b[0m\u001b[0mpredict\u001b[0m\u001b[1;33m(\u001b[0m\u001b[1;33m[\u001b[0m\u001b[1;36m5.0\u001b[0m\u001b[1;33m,\u001b[0m\u001b[1;36m5.0\u001b[0m\u001b[1;33m]\u001b[0m\u001b[1;33m)\u001b[0m\u001b[1;33m\u001b[0m\u001b[0m\n",
      "\u001b[1;31mAttributeError\u001b[0m: LinearRegression instance has no attribute 'predict'"
     ]
    }
   ],
   "source": [
    "# numpy패키지 추가\n",
    "from numpy import *\n",
    "\n",
    "class LinearRegression:\n",
    "    # 생성자\n",
    "    def __init__(self, mat_data, label_data):\n",
    "        # w 초기화 (임의의 값으로)\n",
    "        self.w = array([random.random() * 0.00001 \\\n",
    "                    for i in range(len(mat_data[0]))])\n",
    "        # b (bias) 초기화 (임의의 값으로)\n",
    "        self.b = random.random() * 0.00001\n",
    "        print self.w\n",
    "        print self.b\n",
    "        # 필드 변수 mat_dat, label_dat에 학습할(입력) mat, label저장\n",
    "        self.mat_dat = mat_data\n",
    "        self.label_dat = label_data\n",
    "    \n",
    "    # 학습 (fitting)메서드\n",
    "    def fit(self, epoch, lr):\n",
    "        # 입력한 epoch만큼 update수행\n",
    "        for ep in range(epoch):\n",
    "            # 현재의 y\n",
    "            yp = (self.w * self.mat_dat).sum(axis=1) + self.b\n",
    "            print yp\n",
    "            # 여기까지 하고 갑시다 -> iteration 1번만 돌고 종료\n",
    "            break\n",
    "\n",
    "# 학습할 데이터\n",
    "train_mat = [\\\n",
    "                 [0.12,0.25],\\\n",
    "                 [3.24,4.33],\\\n",
    "                 [0.14,0.45],\\\n",
    "                 [7.30,4.23],\\\n",
    "            ]\n",
    "\n",
    "# 학습할 라벨(결과값)\n",
    "train_label = [[0,1],[1,0],[0,1],[1,0]]\n",
    "\n",
    "# 우리가 작성한 LinearRegression class의 인스턴스 생성\n",
    "lrg = LinearRegression(train_mat, train_label)\n",
    "# 트레이닝 하는 과정 => fitting이라고 함\n",
    "# epoch => update하는 횟수\n",
    "# lr(learning rate) => 업데이트할 때 이동할 w 크기\n",
    "lrg.fit(epoch = 1000, lr = 0.001)\n",
    "\n",
    "# 입력한 parameter에 대한 결과 예측\n",
    "r1 = lrg.predict([0.0,0.0])\n",
    "print r1 # 아마 [0,1]이 나올 것\n",
    "r2 = lrg.predict([5.0,5.0])\n",
    "print r2 # 아마 [1,0]이 나올 것"
   ]
  }
 ],
 "metadata": {
  "kernelspec": {
   "display_name": "Python 2",
   "language": "python",
   "name": "python2"
  },
  "language_info": {
   "codemirror_mode": {
    "name": "ipython",
    "version": 2
   },
   "file_extension": ".py",
   "mimetype": "text/x-python",
   "name": "python",
   "nbconvert_exporter": "python",
   "pygments_lexer": "ipython2",
   "version": "2.7.11+"
  }
 },
 "nbformat": 4,
 "nbformat_minor": 0
}
