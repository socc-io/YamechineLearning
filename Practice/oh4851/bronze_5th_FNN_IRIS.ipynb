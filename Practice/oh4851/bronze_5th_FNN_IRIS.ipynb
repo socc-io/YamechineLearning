{
 "cells": [
  {
   "cell_type": "code",
   "execution_count": 3,
   "metadata": {
    "collapsed": false
   },
   "outputs": [],
   "source": [
    "import pandas as pd\n",
    "import numpy as np\n",
    "data = pd.read_csv('../sample_data/iris/iris.csv')"
   ]
  },
  {
   "cell_type": "code",
   "execution_count": 4,
   "metadata": {
    "collapsed": false
   },
   "outputs": [],
   "source": [
    "data_iris = data.as_matrix()\n",
    "label_d = data_iris[:,[0]]\n",
    "mat = data_iris[:,[1,2,3,4]]\n",
    "label = []\n",
    "for idx, l in enumerate(label_d):\n",
    "    tmp = [0, 0, 0]\n",
    "    tmp[int(l[0])] = 1\n",
    "    label.append(tmp)\n",
    "label = np.array(label)"
   ]
  },
  {
   "cell_type": "code",
   "execution_count": 5,
   "metadata": {
    "collapsed": false
   },
   "outputs": [
    {
     "name": "stdout",
     "output_type": "stream",
     "text": [
      "(130, 4)\n",
      "(130, 3)\n",
      "(20, 4)\n",
      "(20, 3)\n"
     ]
    }
   ],
   "source": [
    "train_mat = mat[:130]\n",
    "train_label = label[:130]\n",
    "test_mat = mat[130:]\n",
    "test_label = label[130:]\n",
    "\n",
    "print train_mat.shape\n",
    "print train_label.shape\n",
    "print test_mat.shape\n",
    "print test_label.shape"
   ]
  },
  {
   "cell_type": "code",
   "execution_count": 6,
   "metadata": {
    "collapsed": true
   },
   "outputs": [],
   "source": [
    "from pytrain.NeuralNetwork import FNN"
   ]
  },
  {
   "cell_type": "code",
   "execution_count": 11,
   "metadata": {
    "collapsed": true
   },
   "outputs": [],
   "source": [
    "hidden_layer = [3,3]\n",
    "fnn = FNN(train_mat, train_label, hidden_layer)\n",
    "fnn.fit(lr = 0.001, epoch = 5000, err_th = 0.001, batch_size = 30)"
   ]
  },
  {
   "cell_type": "code",
   "execution_count": 10,
   "metadata": {
    "collapsed": false,
    "scrolled": true
   },
   "outputs": [
    {
     "name": "stdout",
     "output_type": "stream",
     "text": [
      "(0, 'prdict: ', 2, 'answer: ', 1)\n",
      "(1, 'prdict: ', 2, 'answer: ', 2)\n",
      "(2, 'prdict: ', 0, 'answer: ', 0)\n",
      "(3, 'prdict: ', 1, 'answer: ', 1)\n",
      "(4, 'prdict: ', 2, 'answer: ', 2)\n",
      "(5, 'prdict: ', 0, 'answer: ', 0)\n",
      "(6, 'prdict: ', 2, 'answer: ', 1)\n",
      "(7, 'prdict: ', 2, 'answer: ', 2)\n",
      "(8, 'prdict: ', 0, 'answer: ', 0)\n",
      "(9, 'prdict: ', 2, 'answer: ', 1)\n",
      "(10, 'prdict: ', 2, 'answer: ', 2)\n",
      "(11, 'prdict: ', 0, 'answer: ', 0)\n",
      "(12, 'prdict: ', 2, 'answer: ', 1)\n",
      "(13, 'prdict: ', 2, 'answer: ', 2)\n",
      "(14, 'prdict: ', 0, 'answer: ', 0)\n",
      "(15, 'prdict: ', 2, 'answer: ', 1)\n",
      "(16, 'prdict: ', 2, 'answer: ', 2)\n",
      "(17, 'prdict: ', 0, 'answer: ', 0)\n",
      "(18, 'prdict: ', 2, 'answer: ', 1)\n",
      "(19, 'prdict: ', 2, 'answer: ', 2)\n"
     ]
    }
   ],
   "source": [
    "for i in range(20):\n",
    "    print(i, 'prdict: ', np.argmax(fnn.predict(test_mat[i])), 'answer: ', np.argmax(test_label[i]))"
   ]
  }
 ],
 "metadata": {
  "kernelspec": {
   "display_name": "Python 2",
   "language": "python",
   "name": "python2"
  },
  "language_info": {
   "codemirror_mode": {
    "name": "ipython",
    "version": 2
   },
   "file_extension": ".py",
   "mimetype": "text/x-python",
   "name": "python",
   "nbconvert_exporter": "python",
   "pygments_lexer": "ipython2",
   "version": "2.7.12"
  }
 },
 "nbformat": 4,
 "nbformat_minor": 0
}
