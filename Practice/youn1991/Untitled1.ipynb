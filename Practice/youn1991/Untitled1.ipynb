{
 "cells": [
  {
   "cell_type": "code",
   "execution_count": 7,
   "metadata": {
    "collapsed": false
   },
   "outputs": [
    {
     "name": "stdout",
     "output_type": "stream",
     "text": [
      "[  7.49740830e-07   3.40332854e-07]\n",
      "6.00071022018e-06\n",
      "[  6.17576233e-06   9.90351177e-06   6.25882372e-06   1.29134262e-05]\n"
     ]
    },
    {
     "ename": "AttributeError",
     "evalue": "LinearRegression instance has no attribute 'predict'",
     "output_type": "error",
     "traceback": [
      "\u001b[1;31m---------------------------------------------------------------------------\u001b[0m",
      "\u001b[1;31mAttributeError\u001b[0m                            Traceback (most recent call last)",
      "\u001b[1;32m<ipython-input-7-1f046abd101a>\u001b[0m in \u001b[0;36m<module>\u001b[1;34m()\u001b[0m\n\u001b[0;32m     22\u001b[0m \u001b[0mlrg\u001b[0m\u001b[1;33m.\u001b[0m\u001b[0mfit\u001b[0m\u001b[1;33m(\u001b[0m\u001b[0mepoch\u001b[0m \u001b[1;33m=\u001b[0m \u001b[1;36m1000\u001b[0m\u001b[1;33m,\u001b[0m \u001b[0mlr\u001b[0m \u001b[1;33m=\u001b[0m \u001b[1;36m0.001\u001b[0m\u001b[1;33m)\u001b[0m\u001b[1;33m\u001b[0m\u001b[0m\n\u001b[0;32m     23\u001b[0m \u001b[1;33m\u001b[0m\u001b[0m\n\u001b[1;32m---> 24\u001b[1;33m \u001b[0mr1\u001b[0m \u001b[1;33m=\u001b[0m \u001b[0mlrg\u001b[0m\u001b[1;33m.\u001b[0m\u001b[0mpredict\u001b[0m\u001b[1;33m(\u001b[0m\u001b[1;33m[\u001b[0m\u001b[1;36m0.0\u001b[0m\u001b[1;33m,\u001b[0m\u001b[1;36m0.0\u001b[0m\u001b[1;33m]\u001b[0m\u001b[1;33m)\u001b[0m\u001b[1;33m\u001b[0m\u001b[0m\n\u001b[0m\u001b[0;32m     25\u001b[0m \u001b[1;32mprint\u001b[0m \u001b[0mr1\u001b[0m\u001b[1;33m\u001b[0m\u001b[0m\n\u001b[0;32m     26\u001b[0m \u001b[1;33m\u001b[0m\u001b[0m\n",
      "\u001b[1;31mAttributeError\u001b[0m: LinearRegression instance has no attribute 'predict'"
     ]
    }
   ],
   "source": [
    "from numpy import *\n",
    "class LinearRegression:\n",
    "    def __init__(self, mat_data, label_data):\n",
    "        self.w = array([random.random() * 0.000001 \\\n",
    "                for i in range(len(mat_data[0]))])\n",
    "        self.b = random.random() * 0.00001\n",
    "        print self.w\n",
    "        print self.b\n",
    "        self.mat_dat = mat_data\n",
    "        self.label_dat = label_data\n",
    "        \n",
    "    def fit(self, epoch, lr):\n",
    "        for ep in range(epoch):\n",
    "             yp = (self.w * self.mat_dat).sum(axis=1) + self.b\n",
    "             print yp\n",
    "             break\n",
    "            \n",
    "train_mat = [\\\n",
    "                    [0.12, 0.25],\\\n",
    "                    [3.24, 4.33],\\\n",
    "                    [0.14, 0.45],\\\n",
    "                    [7.30, 4.23],\\\n",
    "]\n",
    "\n",
    "train_label = [[0,1],[1,0],[0,1],[1,0]]\n",
    "\n",
    "lrg = LinearRegression(train_mat, train_label)\n",
    "lrg.fit(epoch = 1000, lr = 0.001)\n",
    "\n",
    "r1 = lrg.predict([0.0,0.0])\n",
    "print r1\n",
    "\n",
    "r2 = lrg.predict([5.0,5.0])\n",
    "print r2"
   ]
  }
 ],
 "metadata": {
  "kernelspec": {
   "display_name": "Python 2",
   "language": "python",
   "name": "python2"
  },
  "language_info": {
   "codemirror_mode": {
    "name": "ipython",
    "version": 2
   },
   "file_extension": ".py",
   "mimetype": "text/x-python",
   "name": "python",
   "nbconvert_exporter": "python",
   "pygments_lexer": "ipython2",
   "version": "2.7.11+"
  }
 },
 "nbformat": 4,
 "nbformat_minor": 0
}
