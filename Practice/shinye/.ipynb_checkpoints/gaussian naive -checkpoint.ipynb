{
 "cells": [
  {
   "cell_type": "code",
   "execution_count": 1,
   "metadata": {
    "collapsed": true
   },
   "outputs": [],
   "source": [
    "import numpy as np"
   ]
  },
  {
   "cell_type": "code",
   "execution_count": 11,
   "metadata": {
    "collapsed": false
   },
   "outputs": [
    {
     "name": "stdout",
     "output_type": "stream",
     "text": [
      "[ 16.75  17.5   26.75  40.5 ]\n",
      "[ 21.6875   2.25     4.1875  12.25  ]\n",
      "[ 61.33333333  17.          28.66666667   8.33333333]\n",
      "[ 166.88888889    6.          102.88888889    5.55555556]\n",
      "==========\n",
      "-3.79799055498\n",
      "-inf\n"
     ]
    },
    {
     "name": "stderr",
     "output_type": "stream",
     "text": [
      "/usr/local/lib/python2.7/dist-packages/ipykernel/__main__.py:28: RuntimeWarning: divide by zero encountered in log\n"
     ]
    }
   ],
   "source": [
    "A = np.array([\n",
    "    [10,20,30,40],\n",
    "    [15,17,25,35],\n",
    "    [20,16,27,44],\n",
    "    [22,17,25,43]\n",
    "])\n",
    "B = np.array([\n",
    "    [75,20,21,10],\n",
    "    [65,17,43,5],\n",
    "    [44,14,22,10]\n",
    "])\n",
    "\n",
    "test = np.array([33,17,29,20])\n",
    "A_mean = np.mean(A, axis=0)\n",
    "A_vari = np.mean((A-np.tile(A_mean,(A.shape[0],1))) ** 2, axis=0)\n",
    "B_mean = np.mean(B, axis=0)\n",
    "B_vari = np.mean((B-np.tile(B_mean,(B.shape[0],1))) ** 2, axis=0)\n",
    "\n",
    "print A_mean\n",
    "print A_vari\n",
    "print B_mean\n",
    "print B_vari\n",
    "print \"==========\"\n",
    "\n",
    "#Yame gaussian == ((x-m)/(v))^2\n",
    "x = np.array([33,17,29,20])\n",
    "print np.sum(np.log(((x - A_mean) / A_vari) ** 2)) #A일 확률\n",
    "print np.sum(np.log(((x - B_mean) / B_vari) ** 2)) #B일 확률"
   ]
  }
 ],
 "metadata": {
  "kernelspec": {
   "display_name": "Python 2",
   "language": "python",
   "name": "python2"
  },
  "language_info": {
   "codemirror_mode": {
    "name": "ipython",
    "version": 2
   },
   "file_extension": ".py",
   "mimetype": "text/x-python",
   "name": "python",
   "nbconvert_exporter": "python",
   "pygments_lexer": "ipython2",
   "version": "2.7.12"
  }
 },
 "nbformat": 4,
 "nbformat_minor": 0
}
